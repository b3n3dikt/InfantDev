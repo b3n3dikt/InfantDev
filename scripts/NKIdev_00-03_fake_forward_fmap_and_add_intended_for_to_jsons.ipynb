{
 "cells": [
  {
   "cell_type": "markdown",
   "metadata": {},
   "source": []
  },
  {
   "cell_type": "markdown",
   "metadata": {},
   "source": []
  },
  {
   "cell_type": "code",
   "execution_count": 2,
   "metadata": {},
   "outputs": [
    {
     "name": "stdout",
     "output_type": "stream",
     "text": [
      "Collecting nibabel\n",
      "  Downloading nibabel-5.1.0-py3-none-any.whl (3.3 MB)\n",
      "\u001b[K     |████████████████████████████████| 3.3 MB 3.7 MB/s eta 0:00:01\n",
      "\u001b[?25hRequirement already satisfied: packaging>=17 in /home/bramirez/.local/lib/python3.8/site-packages (from nibabel) (23.1)\n",
      "Collecting numpy>=1.19\n",
      "  Downloading numpy-1.24.2-cp38-cp38-manylinux_2_17_x86_64.manylinux2014_x86_64.whl (17.3 MB)\n",
      "\u001b[K     |████████████████████████████████| 17.3 MB 26.4 MB/s eta 0:00:01\n",
      "\u001b[?25hCollecting importlib-resources>=1.3; python_version < \"3.9\"\n",
      "  Downloading importlib_resources-5.12.0-py3-none-any.whl (36 kB)\n",
      "Collecting zipp>=3.1.0; python_version < \"3.10\"\n",
      "  Downloading zipp-3.15.0-py3-none-any.whl (6.8 kB)\n",
      "Installing collected packages: numpy, zipp, importlib-resources, nibabel\n",
      "Successfully installed importlib-resources-5.12.0 nibabel-5.1.0 numpy-1.24.2 zipp-3.15.0\n",
      "Note: you may need to restart the kernel to use updated packages.\n"
     ]
    }
   ],
   "source": [
    "#pip install nibabel\n"
   ]
  },
  {
   "cell_type": "code",
   "execution_count": 1,
   "metadata": {},
   "outputs": [],
   "source": [
    "import os\n",
    "import glob\n",
    "import json\n",
    "import nibabel as nib\n",
    "import numpy as np\n",
    "\n",
    "\n",
    "# Define the base BIDS directory\n",
    "bids_dir = \"/projects/NHP_processed/developmental_in_modified\"\n",
    "\n",
    "for subject_dir in glob.glob(os.path.join(bids_dir, \"sub-*\")):\n",
    "    subject_id = os.path.basename(subject_dir)\n",
    "\n",
    "    for session_dir in glob.glob(os.path.join(subject_dir, \"ses-*\")):\n",
    "        session_id = os.path.basename(session_dir)\n",
    "        fmap_dir = os.path.join(session_dir, \"fmap\")\n",
    "        func_dir = os.path.join(session_dir, \"func\")\n",
    "\n",
    "        reverse_epi_pattern = f\"{subject_id}_{session_id}_task-REST_acq-1_dir-AP_epi.nii.gz\"\n",
    "        reverse_json_pattern = f\"{subject_id}_{session_id}_task-REST_acq-1_dir-AP_epi.json\"\n",
    "        forward_epi_pattern = f\"{subject_id}_{session_id}_task-REST_acq-1_dir-PA_epi.nii.gz\"\n",
    "        forward_json_pattern = f\"{subject_id}_{session_id}_task-REST_acq-1_dir-PA_epi.json\"\n",
    "\n",
    "        reverse_epi_files = glob.glob(os.path.join(fmap_dir, reverse_epi_pattern))\n",
    "        reverse_json_files = glob.glob(os.path.join(fmap_dir, reverse_json_pattern))\n",
    "        forward_epi_files = glob.glob(os.path.join(fmap_dir, forward_epi_pattern))\n",
    "        forward_json_files = glob.glob(os.path.join(fmap_dir, forward_json_pattern))\n",
    "\n",
    "        if len(reverse_epi_files) == 1 and len(reverse_json_files) == 1 and len(forward_epi_files) == 0 and len(forward_json_files) == 0:\n",
    "            # Find the first REST BOLD file in the func folder\n",
    "            rest_bold_pattern = f\"{subject_id}_{session_id}_task-REST_run-1_bold.nii.gz\"\n",
    "            rest_bold_files = glob.glob(os.path.join(func_dir, rest_bold_pattern))\n",
    "\n",
    "            if len(rest_bold_files) > 0:\n",
    "                # Load the REST BOLD NIfTI file\n",
    "                rest_bold_file = rest_bold_files[0]\n",
    "                rest_bold_img = nib.load(rest_bold_file)\n",
    "\n",
    "                # Compute the mean image across the time dimension\n",
    "                mean_img_data = np.mean(rest_bold_img.get_fdata(), axis=-1)\n",
    "                mean_img = nib.Nifti1Image(mean_img_data, rest_bold_img.affine)\n",
    "\n",
    "                # Save the mean image as the forward spin echo NIfTI file in the fmap folder\n",
    "                forward_epi_file = os.path.join(fmap_dir, forward_epi_pattern)\n",
    "                nib.save(mean_img, forward_epi_file)\n",
    "\n",
    "                # Copy the JSON from the reverse spin echo to the forward spin echo\n",
    "                reverse_json_file = reverse_json_files[0]\n",
    "                forward_json_file = os.path.join(fmap_dir, forward_json_pattern)\n",
    "\n",
    "                with open(reverse_json_file, \"r\") as src:\n",
    "                    json_data = json.load(src)\n",
    "\n",
    "                with open(forward_json_file, \"w\") as dst:\n",
    "                    json.dump(json_data, dst, indent=4)"
   ]
  },
  {
   "cell_type": "code",
   "execution_count": 2,
   "metadata": {},
   "outputs": [],
   "source": [
    "#import os\n",
    "#import glob\n",
    "#import json\n",
    "\n",
    "# Define the base BIDS directory\n",
    "#bids_dir = \"/Users/bene.ramirez/projects/InfantDevelopment/NKIdev/data/developmental_in\"\n",
    "\n",
    "# Loop through all subjects\n",
    "for subject_dir in glob.glob(os.path.join(bids_dir, \"sub-*\")):\n",
    "    subject_id = os.path.basename(subject_dir)\n",
    "\n",
    "    # Loop through all subject sessions\n",
    "    for session_dir in glob.glob(os.path.join(subject_dir, \"ses-*\")):\n",
    "        session_id = os.path.basename(session_dir)\n",
    "\n",
    "        # Define the fmap and func directories\n",
    "        fmap_dir = os.path.join(session_dir, \"fmap\")\n",
    "        func_dir = os.path.join(session_dir, \"func\")\n",
    "\n",
    "        # Loop through all JSON files in the fmap directory\n",
    "        for json_file in glob.glob(os.path.join(fmap_dir, \"*.json\")):\n",
    "            # Read the existing JSON content\n",
    "            with open(json_file, \"r\") as f:\n",
    "                json_data = json.load(f)\n",
    "\n",
    "            # Add the new key \"IntendedFor\" if it does not exist\n",
    "            if \"IntendedFor\" not in json_data:\n",
    "                json_data[\"IntendedFor\"] = []\n",
    "\n",
    "            # Loop through all BOLD files in the func directory\n",
    "            for bold_file in glob.glob(os.path.join(func_dir, f\"{subject_id}_{session_id}_*_bold.nii.gz\")):\n",
    "                # Get the relative path of the BOLD file from the fmap directory\n",
    "                relative_path = os.path.relpath(bold_file, fmap_dir)\n",
    "\n",
    "                # Add the relative path of the BOLD file to the \"IntendedFor\" list if it's not already there\n",
    "                if relative_path not in json_data[\"IntendedFor\"]:\n",
    "                    json_data[\"IntendedFor\"].append(relative_path)\n",
    "\n",
    "            # Write the updated JSON content back to the file\n",
    "            with open(json_file, \"w\") as f:\n",
    "                json.dump(json_data, f, indent=4)\n"
   ]
  },
  {
   "cell_type": "code",
   "execution_count": null,
   "metadata": {},
   "outputs": [],
   "source": []
  }
 ],
 "metadata": {
  "kernelspec": {
   "display_name": "Python 3",
   "language": "python",
   "name": "python3"
  },
  "language_info": {
   "codemirror_mode": {
    "name": "ipython",
    "version": 3
   },
   "file_extension": ".py",
   "mimetype": "text/x-python",
   "name": "python",
   "nbconvert_exporter": "python",
   "pygments_lexer": "ipython3",
   "version": "3.8.10"
  },
  "orig_nbformat": 4
 },
 "nbformat": 4,
 "nbformat_minor": 2
}
